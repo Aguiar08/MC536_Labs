{
  "nbformat": 4,
  "nbformat_minor": 5,
  "metadata": {
    "kernelspec": {
      "name": "python3",
      "display_name": "Python 3",
      "language": "python"
    },
    "language_info": {
      "name": "python",
      "version": "3.7.10",
      "mimetype": "text/x-python",
      "codemirror_mode": {
        "name": "ipython",
        "version": 3
      },
      "pygments_lexer": "ipython3",
      "nbconvert_exporter": "python",
      "file_extension": ".py"
    },
    "toc": {
      "nav_menu": {},
      "number_sections": false,
      "sideBar": false,
      "skip_h1_title": false,
      "base_numbering": 1,
      "title_cell": "Table of Contents",
      "title_sidebar": "Contents",
      "toc_cell": false,
      "toc_position": {},
      "toc_section_display": false,
      "toc_window_display": false
    },
    "colab": {
      "name": "lab2-logic-model-dbpedia.ipynb",
      "provenance": []
    }
  },
  "cells": [
    {
      "cell_type": "markdown",
      "metadata": {
        "id": "monetary-oakland"
      },
      "source": [
        "# Laboratório 2"
      ],
      "id": "monetary-oakland"
    },
    {
      "cell_type": "markdown",
      "metadata": {
        "id": "bridal-netscape"
      },
      "source": [
        "## Tarefa 1\n",
        "\n",
        "### Carregue o nó de Tenda dos Milagres (da versão em inglês Tent of Miracles) em Python e mostre o conteúdo JSON."
      ],
      "id": "bridal-netscape"
    },
    {
      "cell_type": "code",
      "metadata": {
        "trusted": true,
        "colab": {
          "base_uri": "https://localhost:8080/"
        },
        "id": "exciting-cement",
        "outputId": "7824970e-eea8-4522-bec4-bfd07cb6d963"
      },
      "source": [
        "import io\n",
        "import requests\n",
        "import json\n",
        "url = \"https://dbpedia.org/data/Tent_of_Miracles_(novel).jsod\"\n",
        "js = requests.get(url)\n",
        "\n",
        "data = requests.get(url)\n",
        "jaison = data.json()\n",
        "print(json.dumps(jaison, indent=3))"
      ],
      "id": "exciting-cement",
      "execution_count": 2,
      "outputs": [
        {
          "output_type": "stream",
          "text": [
            "{\n",
            "   \"d\": {\n",
            "      \"results\": [\n",
            "         {\n",
            "            \"__metadata\": {\n",
            "               \"uri\": \"http://dbpedia.org/resource/Tent_of_Miracles_(novel)\"\n",
            "            },\n",
            "            \"http://www.w3.org/2000/01/rdf-schema#label\": \"Tent of Miracles (novel)\",\n",
            "            \"http://dbpedia.org/ontology/wikiPageWikiLink\": {\n",
            "               \"__deferred\": {\n",
            "                  \"uri\": \"http://dbpedia.org/resource/French_New_Wave\"\n",
            "               }\n",
            "            },\n",
            "            \"http://purl.org/dc/terms/subject\": {\n",
            "               \"__deferred\": {\n",
            "                  \"uri\": \"http://dbpedia.org/resource/Category:Modernist_novels\"\n",
            "               }\n",
            "            },\n",
            "            \"http://www.w3.org/1999/02/22-rdf-syntax-ns#type\": {\n",
            "               \"__deferred\": {\n",
            "                  \"uri\": \"http://dbpedia.org/ontology/WrittenWork\"\n",
            "               }\n",
            "            },\n",
            "            \"http://dbpedia.org/property/wikiPageUsesTemplate\": {\n",
            "               \"__deferred\": {\n",
            "                  \"uri\": \"http://dbpedia.org/resource/Template:According_to_whom\"\n",
            "               }\n",
            "            },\n",
            "            \"http://www.w3.org/2000/01/rdf-schema#comment\": \"Tent of Miracles (Portuguese: Tenda dos Milagres) is a Brazilian Modernist novel. It was written by Jorge Amado in 1967 and published the following year. It was later adapted to a 1977 Cinema Novo (Nouvelle Vague) film by director/screenplay writer Nelson Pereira dos Santos.\",\n",
            "            \"http://dbpedia.org/ontology/abstract\": \"La bottega dei miracoli \\u00e8 un romanzo di Jorge Amado pubblicato nel 1960. Come altri romanzi dell&#39;autore (ad esempio Tieta d&#39;Agreste e Teresa Batista) \\u00e8 un testo composito, con un intreccio zigzagante fra analessi e prolessi, con mutamenti di voci narranti ed inserti di materiale eterogeneo.\\u00c8 possibile che l&#39;evento scatenante del racconto (la visita del famoso scienziato) sia stato ispirato dall&#39;esperienza vissuta; in quello stesso 1960, infatti, Jean Paul Sartre e Simone De Beauvoir visitarono il Brasile su invito dello stesso Amado: la visita divenne un evento mediatico, celebrato in numerose manifestazioni istituzionali.\",\n",
            "            \"http://dbpedia.org/property/pubDate\": \"1969\",\n",
            "            \"http://dbpedia.org/property/country\": {\n",
            "               \"__deferred\": {\n",
            "                  \"uri\": \"http://dbpedia.org/resource/Brazil\"\n",
            "               }\n",
            "            },\n",
            "            \"http://www.w3.org/2002/07/owl#sameAs\": {\n",
            "               \"__deferred\": {\n",
            "                  \"uri\": \"http://rdf.freebase.com/ns/m.02xrs4\"\n",
            "               }\n",
            "            },\n",
            "            \"http://dbpedia.org/ontology/wikiPageRevisionID\": \"974212123\",\n",
            "            \"http://dbpedia.org/property/author\": {\n",
            "               \"__deferred\": {\n",
            "                  \"uri\": \"http://dbpedia.org/resource/Jorge_Amado\"\n",
            "               }\n",
            "            },\n",
            "            \"http://dbpedia.org/ontology/author\": {\n",
            "               \"__deferred\": {\n",
            "                  \"uri\": \"http://dbpedia.org/resource/Jorge_Amado\"\n",
            "               }\n",
            "            },\n",
            "            \"http://xmlns.com/foaf/0.1/name\": \"Tenda dos Milagres\",\n",
            "            \"http://dbpedia.org/property/englishPubDate\": \"1971\",\n",
            "            \"http://dbpedia.org/ontology/country\": {\n",
            "               \"__deferred\": {\n",
            "                  \"uri\": \"http://dbpedia.org/resource/Brazil\"\n",
            "               }\n",
            "            },\n",
            "            \"http://dbpedia.org/property/name\": \"Tent of Miracles\",\n",
            "            \"http://purl.org/linguistics/gold/hypernym\": {\n",
            "               \"__deferred\": {\n",
            "                  \"uri\": \"http://dbpedia.org/resource/Novel\"\n",
            "               }\n",
            "            },\n",
            "            \"http://dbpedia.org/property/titleOrig\": \"Tenda dos Milagres\",\n",
            "            \"http://dbpedia.org/ontology/publisher\": {\n",
            "               \"__deferred\": {\n",
            "                  \"uri\": \"http://dbpedia.org/resource/Brazil\"\n",
            "               }\n",
            "            },\n",
            "            \"http://dbpedia.org/ontology/language\": {\n",
            "               \"__deferred\": {\n",
            "                  \"uri\": \"http://dbpedia.org/resource/Portuguese_language\"\n",
            "               }\n",
            "            },\n",
            "            \"http://www.w3.org/ns/prov#wasDerivedFrom\": {\n",
            "               \"__deferred\": {\n",
            "                  \"uri\": \"http://en.wikipedia.org/wiki/Tent_of_Miracles_(novel)?oldid=974212123&ns=0\"\n",
            "               }\n",
            "            },\n",
            "            \"http://dbpedia.org/ontology/wikiPageLength\": \"5253\",\n",
            "            \"http://purl.org/dc/elements/1.1/publisher\": \"Martins, Sao Paulo, Brazil\",\n",
            "            \"http://dbpedia.org/property/language\": {\n",
            "               \"__deferred\": {\n",
            "                  \"uri\": \"http://dbpedia.org/resource/Portuguese_language\"\n",
            "               }\n",
            "            },\n",
            "            \"http://dbpedia.org/ontology/wikiPageID\": \"623351\",\n",
            "            \"http://dbpedia.org/property/publisher\": \"Martins, Sao Paulo, Brazil\",\n",
            "            \"http://dbpedia.org/property/caption\": \"First edition\",\n",
            "            \"http://xmlns.com/foaf/0.1/isPrimaryTopicOf\": {\n",
            "               \"__deferred\": {\n",
            "                  \"uri\": \"http://en.wikipedia.org/wiki/Tent_of_Miracles_(novel)\"\n",
            "               }\n",
            "            }\n",
            "         }\n",
            "      ],\n",
            "      \"__count\": \"1\"\n",
            "   }\n",
            "}\n"
          ],
          "name": "stdout"
        }
      ]
    },
    {
      "cell_type": "markdown",
      "metadata": {
        "id": "threatened-shepherd"
      },
      "source": [
        "## Tarefa 2\n",
        "### Recupere via Python e mostre o autor de Tenda dos Milagres?"
      ],
      "id": "threatened-shepherd"
    },
    {
      "cell_type": "code",
      "metadata": {
        "trusted": true,
        "colab": {
          "base_uri": "https://localhost:8080/"
        },
        "id": "subjective-bachelor",
        "outputId": "d9c4863f-418a-4b2e-a910-bd21ad0e3504"
      },
      "source": [
        "autor = jaison[\"d\"][\"results\"][0][\"http://dbpedia.org/ontology/author\"][\"__deferred\"][\"uri\"]\n",
        "print(\"Autor de Tenda dos Milagres é: \" + autor)"
      ],
      "id": "subjective-bachelor",
      "execution_count": 3,
      "outputs": [
        {
          "output_type": "stream",
          "text": [
            "Autor de Tenda dos Milagres é: http://dbpedia.org/resource/Jorge_Amado\n"
          ],
          "name": "stdout"
        }
      ]
    },
    {
      "cell_type": "markdown",
      "metadata": {
        "id": "specialized-playback"
      },
      "source": [
        "## Tarefa 3\n",
        "### Quais os termos usados para Aspirina (consulta JSON/MeSH em Python)?"
      ],
      "id": "specialized-playback"
    },
    {
      "cell_type": "code",
      "metadata": {
        "trusted": true,
        "colab": {
          "base_uri": "https://localhost:8080/"
        },
        "id": "about-sacramento",
        "outputId": "8dcbd235-1fbb-4560-f9a0-db9041d81378"
      },
      "source": [
        "#Apartir do JSON encontrar o link do MeSH da Aspirina\n",
        "url_inicio = \"https://id.nlm.nih.gov/mesh/lookup/descriptor?label={concept}&match={match}&limit={limit}\"\n",
        "\n",
        "concept = \"Aspirin\"\n",
        "match = \"exact\"\n",
        "limit = \"10\"\n",
        "\n",
        "concept = concept.replace(\" \", \"%20\")\n",
        "\n",
        "url = url_inicio.replace(\"{concept}\", concept).replace(\"{match}\", match).replace(\"{limit}\", limit)\n",
        "\n",
        "data = requests.get(url)\n",
        "json_inicio = data.json()\n",
        "print(json.dumps(json_inicio, indent=3))"
      ],
      "id": "about-sacramento",
      "execution_count": 4,
      "outputs": [
        {
          "output_type": "stream",
          "text": [
            "[\n",
            "   {\n",
            "      \"resource\": \"http://id.nlm.nih.gov/mesh/D001241\",\n",
            "      \"label\": \"Aspirin\"\n",
            "   }\n",
            "]\n"
          ],
          "name": "stdout"
        }
      ]
    },
    {
      "cell_type": "code",
      "metadata": {
        "trusted": true,
        "colab": {
          "base_uri": "https://localhost:8080/"
        },
        "id": "r5gPwPNuYwhN",
        "outputId": "7d27d35f-b16b-4fa9-bed4-f4a732211681"
      },
      "source": [
        "#Pegar os dados para utilizar no novo URL\n",
        "\n",
        "uri_mesh = json_inicio[0][\"resource\"]\n",
        "print(\"uri do recurso: \" + uri_mesh)\n",
        "bar = str.rindex(uri_mesh, \"/\")\n",
        "print(\"código do recurso: \" + uri_mesh[bar+1:])\n",
        "\n",
        "url_real = \"https://id.nlm.nih.gov/mesh/lookup/details?descriptor={code}\"\n",
        "code = uri_mesh[bar+1:]\n",
        "\n",
        "\n",
        "url = url_real.replace(\"{code}\", code)\n",
        "\n",
        "data = requests.get(url)\n",
        "json_real = data.json()\n",
        "print(json.dumps(json_real, indent=3))"
      ],
      "id": "r5gPwPNuYwhN",
      "execution_count": 6,
      "outputs": [
        {
          "output_type": "stream",
          "text": [
            "uri do recurso: http://id.nlm.nih.gov/mesh/D001241\n",
            "código do recurso: D001241\n",
            "{\n",
            "   \"descriptor\": \"http://id.nlm.nih.gov/mesh/D001241\",\n",
            "   \"terms\": [\n",
            "      {\n",
            "         \"resource\": \"http://id.nlm.nih.gov/mesh/T003713\",\n",
            "         \"label\": \"Aspirin\",\n",
            "         \"preferred\": true\n",
            "      },\n",
            "      {\n",
            "         \"resource\": \"http://id.nlm.nih.gov/mesh/T003714\",\n",
            "         \"label\": \"2-(Acetyloxy)benzoic Acid\",\n",
            "         \"preferred\": false\n",
            "      },\n",
            "      {\n",
            "         \"resource\": \"http://id.nlm.nih.gov/mesh/T003712\",\n",
            "         \"label\": \"Acetylsalicylic Acid\",\n",
            "         \"preferred\": false\n",
            "      },\n",
            "      {\n",
            "         \"resource\": \"http://id.nlm.nih.gov/mesh/T003721\",\n",
            "         \"label\": \"Acetysal\",\n",
            "         \"preferred\": false\n",
            "      },\n",
            "      {\n",
            "         \"resource\": \"http://id.nlm.nih.gov/mesh/T003722\",\n",
            "         \"label\": \"Acylpyrin\",\n",
            "         \"preferred\": false\n",
            "      },\n",
            "      {\n",
            "         \"resource\": \"http://id.nlm.nih.gov/mesh/T003711\",\n",
            "         \"label\": \"Aloxiprimum\",\n",
            "         \"preferred\": false\n",
            "      },\n",
            "      {\n",
            "         \"resource\": \"http://id.nlm.nih.gov/mesh/T003723\",\n",
            "         \"label\": \"Colfarit\",\n",
            "         \"preferred\": false\n",
            "      },\n",
            "      {\n",
            "         \"resource\": \"http://id.nlm.nih.gov/mesh/T003715\",\n",
            "         \"label\": \"Dispril\",\n",
            "         \"preferred\": false\n",
            "      },\n",
            "      {\n",
            "         \"resource\": \"http://id.nlm.nih.gov/mesh/T003719\",\n",
            "         \"label\": \"Easprin\",\n",
            "         \"preferred\": false\n",
            "      },\n",
            "      {\n",
            "         \"resource\": \"http://id.nlm.nih.gov/mesh/T003724\",\n",
            "         \"label\": \"Ecotrin\",\n",
            "         \"preferred\": false\n",
            "      },\n",
            "      {\n",
            "         \"resource\": \"http://id.nlm.nih.gov/mesh/T003725\",\n",
            "         \"label\": \"Endosprin\",\n",
            "         \"preferred\": false\n",
            "      },\n",
            "      {\n",
            "         \"resource\": \"http://id.nlm.nih.gov/mesh/T003726\",\n",
            "         \"label\": \"Magnecyl\",\n",
            "         \"preferred\": false\n",
            "      },\n",
            "      {\n",
            "         \"resource\": \"http://id.nlm.nih.gov/mesh/T003727\",\n",
            "         \"label\": \"Micristin\",\n",
            "         \"preferred\": false\n",
            "      },\n",
            "      {\n",
            "         \"resource\": \"http://id.nlm.nih.gov/mesh/T003717\",\n",
            "         \"label\": \"Polopirin\",\n",
            "         \"preferred\": false\n",
            "      },\n",
            "      {\n",
            "         \"resource\": \"http://id.nlm.nih.gov/mesh/T003728\",\n",
            "         \"label\": \"Polopiryna\",\n",
            "         \"preferred\": false\n",
            "      },\n",
            "      {\n",
            "         \"resource\": \"http://id.nlm.nih.gov/mesh/T003716\",\n",
            "         \"label\": \"Solprin\",\n",
            "         \"preferred\": false\n",
            "      },\n",
            "      {\n",
            "         \"resource\": \"http://id.nlm.nih.gov/mesh/T003718\",\n",
            "         \"label\": \"Solupsan\",\n",
            "         \"preferred\": false\n",
            "      },\n",
            "      {\n",
            "         \"resource\": \"http://id.nlm.nih.gov/mesh/T003720\",\n",
            "         \"label\": \"Zorprin\",\n",
            "         \"preferred\": false\n",
            "      }\n",
            "   ],\n",
            "   \"qualifiers\": [\n",
            "      {\n",
            "         \"resource\": \"http://id.nlm.nih.gov/mesh/Q000008\",\n",
            "         \"label\": \"administration & dosage\"\n",
            "      },\n",
            "      {\n",
            "         \"resource\": \"http://id.nlm.nih.gov/mesh/Q000009\",\n",
            "         \"label\": \"adverse effects\"\n",
            "      },\n",
            "      {\n",
            "         \"resource\": \"http://id.nlm.nih.gov/mesh/Q000819\",\n",
            "         \"label\": \"agonists\"\n",
            "      },\n",
            "      {\n",
            "         \"resource\": \"http://id.nlm.nih.gov/mesh/Q000031\",\n",
            "         \"label\": \"analogs & derivatives\"\n",
            "      },\n",
            "      {\n",
            "         \"resource\": \"http://id.nlm.nih.gov/mesh/Q000032\",\n",
            "         \"label\": \"analysis\"\n",
            "      },\n",
            "      {\n",
            "         \"resource\": \"http://id.nlm.nih.gov/mesh/Q000037\",\n",
            "         \"label\": \"antagonists & inhibitors\"\n",
            "      },\n",
            "      {\n",
            "         \"resource\": \"http://id.nlm.nih.gov/mesh/Q000097\",\n",
            "         \"label\": \"blood\"\n",
            "      },\n",
            "      {\n",
            "         \"resource\": \"http://id.nlm.nih.gov/mesh/Q000134\",\n",
            "         \"label\": \"cerebrospinal fluid\"\n",
            "      },\n",
            "      {\n",
            "         \"resource\": \"http://id.nlm.nih.gov/mesh/Q000138\",\n",
            "         \"label\": \"chemical synthesis\"\n",
            "      },\n",
            "      {\n",
            "         \"resource\": \"http://id.nlm.nih.gov/mesh/Q000737\",\n",
            "         \"label\": \"chemistry\"\n",
            "      },\n",
            "      {\n",
            "         \"resource\": \"http://id.nlm.nih.gov/mesh/Q000145\",\n",
            "         \"label\": \"classification\"\n",
            "      },\n",
            "      {\n",
            "         \"resource\": \"http://id.nlm.nih.gov/mesh/Q000191\",\n",
            "         \"label\": \"economics\"\n",
            "      },\n",
            "      {\n",
            "         \"resource\": \"http://id.nlm.nih.gov/mesh/Q000266\",\n",
            "         \"label\": \"history\"\n",
            "      },\n",
            "      {\n",
            "         \"resource\": \"http://id.nlm.nih.gov/mesh/Q000276\",\n",
            "         \"label\": \"immunology\"\n",
            "      },\n",
            "      {\n",
            "         \"resource\": \"http://id.nlm.nih.gov/mesh/Q000302\",\n",
            "         \"label\": \"isolation & purification\"\n",
            "      },\n",
            "      {\n",
            "         \"resource\": \"http://id.nlm.nih.gov/mesh/Q000378\",\n",
            "         \"label\": \"metabolism\"\n",
            "      },\n",
            "      {\n",
            "         \"resource\": \"http://id.nlm.nih.gov/mesh/Q000493\",\n",
            "         \"label\": \"pharmacokinetics\"\n",
            "      },\n",
            "      {\n",
            "         \"resource\": \"http://id.nlm.nih.gov/mesh/Q000494\",\n",
            "         \"label\": \"pharmacology\"\n",
            "      },\n",
            "      {\n",
            "         \"resource\": \"http://id.nlm.nih.gov/mesh/Q000506\",\n",
            "         \"label\": \"poisoning\"\n",
            "      },\n",
            "      {\n",
            "         \"resource\": \"http://id.nlm.nih.gov/mesh/Q000528\",\n",
            "         \"label\": \"radiation effects\"\n",
            "      },\n",
            "      {\n",
            "         \"resource\": \"http://id.nlm.nih.gov/mesh/Q000592\",\n",
            "         \"label\": \"standards\"\n",
            "      },\n",
            "      {\n",
            "         \"resource\": \"http://id.nlm.nih.gov/mesh/Q000600\",\n",
            "         \"label\": \"supply & distribution\"\n",
            "      },\n",
            "      {\n",
            "         \"resource\": \"http://id.nlm.nih.gov/mesh/Q000627\",\n",
            "         \"label\": \"therapeutic use\"\n",
            "      },\n",
            "      {\n",
            "         \"resource\": \"http://id.nlm.nih.gov/mesh/Q000633\",\n",
            "         \"label\": \"toxicity\"\n",
            "      },\n",
            "      {\n",
            "         \"resource\": \"http://id.nlm.nih.gov/mesh/Q000652\",\n",
            "         \"label\": \"urine\"\n",
            "      }\n",
            "   ],\n",
            "   \"seealso\": []\n",
            "}\n"
          ],
          "name": "stdout"
        }
      ]
    },
    {
      "cell_type": "code",
      "metadata": {
        "trusted": true,
        "colab": {
          "base_uri": "https://localhost:8080/"
        },
        "id": "s2REWOm7YwhO",
        "outputId": "37e811d1-40b6-47f1-aad2-e78560a14d0d"
      },
      "source": [
        "#Imprimir os Termos relacionados a Aspirina\n",
        "print(\"Os termos de aspirina são:\", end=\" \")\n",
        "for i in range(len(json_real[\"terms\"])):\n",
        "    termos = json_real[\"terms\"][i][\"label\"]\n",
        "    print(termos + \",\", end=\" \")"
      ],
      "id": "s2REWOm7YwhO",
      "execution_count": 7,
      "outputs": [
        {
          "output_type": "stream",
          "text": [
            "Os termos de aspirina são: Aspirin, 2-(Acetyloxy)benzoic Acid, Acetylsalicylic Acid, Acetysal, Acylpyrin, Aloxiprimum, Colfarit, Dispril, Easprin, Ecotrin, Endosprin, Magnecyl, Micristin, Polopirin, Polopiryna, Solprin, Solupsan, Zorprin, "
          ],
          "name": "stdout"
        }
      ]
    },
    {
      "cell_type": "markdown",
      "metadata": {
        "id": "uniform-worst"
      },
      "source": [
        "## Tarefa 4\n",
        "### Escolha algum lugar no OpenStreetMap e elabore a mesma sequência de três chamadas de serviços para o seu conceito."
      ],
      "id": "uniform-worst"
    },
    {
      "cell_type": "code",
      "metadata": {
        "trusted": true,
        "colab": {
          "base_uri": "https://localhost:8080/"
        },
        "id": "virgin-volunteer",
        "outputId": "24ad1ce9-2f84-4395-dd18-42b45ed923be"
      },
      "source": [
        "#REST API do OpenStreetMap para Query\n",
        "\n",
        "#Encontrar o CN Tower no Open Street Map\n",
        "url_template = \"http://nominatim.openstreetmap.org/search?format={format}&q={query}\"\n",
        "format = \"json\"\n",
        "query = \"CN Tower\"\n",
        "\n",
        "url = url_template.replace(\"{format}\", format)\\\n",
        "                  .replace(\"{query}\", query)\n",
        "\n",
        "data = requests.get(url)\n",
        "tower_ref = data.json()\n",
        "print(json.dumps(tower_ref, indent=3))"
      ],
      "id": "virgin-volunteer",
      "execution_count": 8,
      "outputs": [
        {
          "output_type": "stream",
          "text": [
            "[\n",
            "   {\n",
            "      \"place_id\": 98375203,\n",
            "      \"licence\": \"Data \\u00a9 OpenStreetMap contributors, ODbL 1.0. https://osm.org/copyright\",\n",
            "      \"osm_type\": \"way\",\n",
            "      \"osm_id\": 32742038,\n",
            "      \"boundingbox\": [\n",
            "         \"43.6423338\",\n",
            "         \"43.6427965\",\n",
            "         \"-79.3874416\",\n",
            "         \"-79.3867985\"\n",
            "      ],\n",
            "      \"lat\": \"43.6425637\",\n",
            "      \"lon\": \"-79.38708718320467\",\n",
            "      \"display_name\": \"CN Tower, 301, Front Street West, Entertainment District, Spadina\\u2014Fort York, Old Toronto, Toronto, Golden Horseshoe, Ontario, M5V 2X3, Canada\",\n",
            "      \"class\": \"tourism\",\n",
            "      \"type\": \"attraction\",\n",
            "      \"importance\": 0.6851513060250498,\n",
            "      \"icon\": \"https://nominatim.openstreetmap.org/ui/mapicons//poi_point_of_interest.p.20.png\"\n",
            "   },\n",
            "   {\n",
            "      \"place_id\": 99128406,\n",
            "      \"licence\": \"Data \\u00a9 OpenStreetMap contributors, ODbL 1.0. https://osm.org/copyright\",\n",
            "      \"osm_type\": \"way\",\n",
            "      \"osm_id\": 35010556,\n",
            "      \"boundingbox\": [\n",
            "         \"53.5466576\",\n",
            "         \"53.5473868\",\n",
            "         \"-113.4917591\",\n",
            "         \"-113.4910387\"\n",
            "      ],\n",
            "      \"lat\": \"53.547021799999996\",\n",
            "      \"lon\": \"-113.49139872345353\",\n",
            "      \"display_name\": \"CN Tower, 10340, 103A Avenue NW, Downtown, Central Core, Avenue District, Edmonton, Edmonton (city), Alberta, T5J 3T9, Canada\",\n",
            "      \"class\": \"building\",\n",
            "      \"type\": \"commercial\",\n",
            "      \"importance\": 0.4874189406975713\n",
            "   },\n",
            "   {\n",
            "      \"place_id\": 24223250,\n",
            "      \"licence\": \"Data \\u00a9 OpenStreetMap contributors, ODbL 1.0. https://osm.org/copyright\",\n",
            "      \"osm_type\": \"node\",\n",
            "      \"osm_id\": 2485404729,\n",
            "      \"boundingbox\": [\n",
            "         \"43.6426513\",\n",
            "         \"43.6427513\",\n",
            "         \"-79.3877977\",\n",
            "         \"-79.3876977\"\n",
            "      ],\n",
            "      \"lat\": \"43.6427013\",\n",
            "      \"lon\": \"-79.3877477\",\n",
            "      \"display_name\": \"CN Tower, Convention centre loading dock, Entertainment District, Spadina\\u2014Fort York, Old Toronto, Toronto, Golden Horseshoe, Ontario, M5V 3B5, Canada\",\n",
            "      \"class\": \"shop\",\n",
            "      \"type\": \"ticket\",\n",
            "      \"importance\": 0.201\n",
            "   },\n",
            "   {\n",
            "      \"place_id\": 20135346,\n",
            "      \"licence\": \"Data \\u00a9 OpenStreetMap contributors, ODbL 1.0. https://osm.org/copyright\",\n",
            "      \"osm_type\": \"node\",\n",
            "      \"osm_id\": 2110876435,\n",
            "      \"boundingbox\": [\n",
            "         \"46.6199247\",\n",
            "         \"46.6200247\",\n",
            "         \"14.2649264\",\n",
            "         \"14.2650264\"\n",
            "      ],\n",
            "      \"lat\": \"46.6199747\",\n",
            "      \"lon\": \"14.2649764\",\n",
            "      \"display_name\": \"CN Tower, Villacher Stra\\u00dfe, Kohldorf, St. Martin, Klagenfurt am W\\u00f6rthersee, K\\u00e4rnten, 9020, \\u00d6sterreich\",\n",
            "      \"class\": \"tourism\",\n",
            "      \"type\": \"attraction\",\n",
            "      \"importance\": 0.201,\n",
            "      \"icon\": \"https://nominatim.openstreetmap.org/ui/mapicons//poi_point_of_interest.p.20.png\"\n",
            "   },\n",
            "   {\n",
            "      \"place_id\": 203037201,\n",
            "      \"licence\": \"Data \\u00a9 OpenStreetMap contributors, ODbL 1.0. https://osm.org/copyright\",\n",
            "      \"osm_type\": \"way\",\n",
            "      \"osm_id\": 516960086,\n",
            "      \"boundingbox\": [\n",
            "         \"23.3556489\",\n",
            "         \"23.3558438\",\n",
            "         \"85.3238008\",\n",
            "         \"85.3239966\"\n",
            "      ],\n",
            "      \"lat\": \"23.35574885\",\n",
            "      \"lon\": \"85.32389947048368\",\n",
            "      \"display_name\": \"CN Tower, Mahatma Gandhi Road, Chutia, Ranchi, Kanke, Ranchi, Jharkhand, HINDPIRI, India\",\n",
            "      \"class\": \"shop\",\n",
            "      \"type\": \"computer\",\n",
            "      \"importance\": 0.201\n",
            "   }\n",
            "]\n"
          ],
          "name": "stdout"
        }
      ]
    },
    {
      "cell_type": "code",
      "metadata": {
        "trusted": true,
        "id": "kpw4PvVkYwhP"
      },
      "source": [
        "#Indentificador OSM\n",
        "print(tower_ref[0][\"osm_id\"])"
      ],
      "id": "kpw4PvVkYwhP",
      "execution_count": null,
      "outputs": []
    },
    {
      "cell_type": "code",
      "metadata": {
        "trusted": true,
        "id": "7Y2Rn7NhYwhP"
      },
      "source": [
        "#REST API do OpenStreetMap para Elementos (Node, Way e Relation)\n",
        "url_template = \"https://api.openstreetmap.org/api/0.6/{element_type}/{id}.{format}\"\n",
        "element_type = \"way\" # types: node, way, or relation\n",
        "id = str(palace_ref[0][\"osm_id\"])\n",
        "format = \"json\"\n",
        "\n",
        "url = url_template.replace(\"{element_type}\", element_type)\\\n",
        "                  .replace(\"{id}\", id)\\\n",
        "                  .replace(\"{format}\", format)\n",
        "\n",
        "data = requests.get(url)\n",
        "tower_way = data.json()\n",
        "print(json.dumps(tower_way, indent=3))\n"
      ],
      "id": "7Y2Rn7NhYwhP",
      "execution_count": null,
      "outputs": []
    },
    {
      "cell_type": "code",
      "metadata": {
        "trusted": true,
        "id": "T2OVPZ0qYwhQ"
      },
      "source": [
        "#Extraindo o Identificador DBPedia\n",
        "print(tower_way[\"elements\"][0][\"tags\"][\"wikipedia\"])"
      ],
      "id": "T2OVPZ0qYwhQ",
      "execution_count": null,
      "outputs": []
    },
    {
      "cell_type": "code",
      "metadata": {
        "trusted": true,
        "id": "8etw4JR4YwhQ"
      },
      "source": [
        "#REST API do DBPedia\n",
        "url_template = \"http://dbpedia.org/data/{concept}.{format}\"\n",
        "concept = tower_way[\"elements\"][0][\"tags\"][\"wikipedia\"].replace(\" \", \"_\")\\\n",
        "                                                        .replace(\"en:\", \"\")\n",
        "format = \"json\"\n",
        "\n",
        "url = url_template.replace(\"{concept}\", concept)\\\n",
        "                  .replace(\"{format}\", format)\n",
        "\n",
        "data = requests.get(url)\n",
        "tower_dbpedia = data.json()\n",
        "print(json.dumps(tower_dbpedia, indent=3))"
      ],
      "id": "8etw4JR4YwhQ",
      "execution_count": null,
      "outputs": []
    }
  ]
}